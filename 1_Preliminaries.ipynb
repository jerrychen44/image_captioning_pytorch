{
 "cells": [
  {
   "cell_type": "markdown",
   "metadata": {},
   "source": [
    "# Computer Vision Nanodegree\n",
    "\n",
    "## Project: Image Captioning\n",
    "\n",
    "---\n",
    "\n",
    "In this notebook, you will learn how to load and pre-process data from the [COCO dataset](http://cocodataset.org/#home). You will also design a CNN-RNN model for automatically generating image captions.\n",
    "\n",
    "Note that **any amendments that you make to this notebook will not be graded**.  However, you will use the instructions provided in **Step 3** and **Step 4** to implement your own CNN encoder and RNN decoder by making amendments to the **models.py** file provided as part of this project.  Your **models.py** file **will be graded**. \n",
    "\n",
    "Feel free to use the links below to navigate the notebook:\n",
    "- [Step 1](#step1): Explore the Data Loader\n",
    "- [Step 2](#step2): Use the Data Loader to Obtain Batches\n",
    "- [Step 3](#step3): Experiment with the CNN Encoder\n",
    "- [Step 4](#step4): Implement the RNN Decoder"
   ]
  },
  {
   "cell_type": "markdown",
   "metadata": {},
   "source": [
    "<a id='step1'></a>\n",
    "## Step 1: Explore the Data Loader\n",
    "\n",
    "We have already written a [data loader](http://pytorch.org/docs/master/data.html#torch.utils.data.DataLoader) that you can use to load the COCO dataset in batches. \n",
    "\n",
    "In the code cell below, you will initialize the data loader by using the `get_loader` function in **data_loader.py**.  \n",
    "\n",
    "> For this project, you are not permitted to change the **data_loader.py** file, which must be used as-is.\n",
    "\n",
    "The `get_loader` function takes as input a number of arguments that can be explored in **data_loader.py**.  Take the time to explore these arguments now by opening **data_loader.py** in a new window.  Most of the arguments must be left at their default values, and you are only allowed to amend the values of the arguments below:\n",
    "1. **`transform`** - an [image transform](http://pytorch.org/docs/master/torchvision/transforms.html) specifying how to pre-process the images and convert them to PyTorch tensors before using them as input to the CNN encoder.  For now, you are encouraged to keep the transform as provided in `transform_train`.  You will have the opportunity later to choose your own image transform to pre-process the COCO images.\n",
    "2. **`mode`** - one of `'train'` (loads the training data in batches) or `'test'` (for the test data). We will say that the data loader is in training or test mode, respectively.  While following the instructions in this notebook, please keep the data loader in training mode by setting `mode='train'`.\n",
    "3. **`batch_size`** - determines the batch size.  When training the model, this is number of image-caption pairs used to amend the model weights in each training step.\n",
    "4. **`vocab_threshold`** - the total number of times that a word must appear in the in the training captions before it is used as part of the vocabulary.  Words that have fewer than `vocab_threshold` occurrences in the training captions are considered unknown words. \n",
    "5. **`vocab_from_file`** - a Boolean that decides whether to load the vocabulary from file.  \n",
    "\n",
    "We will describe the `vocab_threshold` and `vocab_from_file` arguments in more detail soon.  For now, run the code cell below.  Be patient - it may take a couple of minutes to run!"
   ]
  },
  {
   "cell_type": "code",
   "execution_count": 1,
   "metadata": {
    "scrolled": false
   },
   "outputs": [
    {
     "name": "stdout",
     "output_type": "stream",
     "text": [
      "Requirement already satisfied: nltk in /home/jerrys/anaconda3/lib/python3.6/site-packages\n",
      "Requirement already satisfied: six in /home/jerrys/anaconda3/lib/python3.6/site-packages (from nltk)\n",
      "\u001b[33mYou are using pip version 9.0.1, however version 10.0.1 is available.\n",
      "You should consider upgrading via the 'pip install --upgrade pip' command.\u001b[0m\n",
      "[nltk_data] Downloading package punkt to /home/jerrys/nltk_data...\n",
      "[nltk_data]   Package punkt is already up-to-date!\n"
     ]
    }
   ],
   "source": [
    "import sys\n",
    "sys.path.append('../cocoapi/PythonAPI')\n",
    "from pycocotools.coco import COCO\n",
    "!pip install nltk\n",
    "import nltk\n",
    "nltk.download('punkt')\n",
    "from data_loader import get_loader\n",
    "from torchvision import transforms\n",
    "import torch\n",
    "import nltk\n",
    "\n",
    "# Define a transform to pre-process the training images.\n",
    "transform_train = transforms.Compose([ \n",
    "    transforms.Resize(256),                          # smaller edge of image resized to 256\n",
    "    transforms.RandomCrop(224),                      # get 224x224 crop from random location\n",
    "    transforms.RandomHorizontalFlip(),               # horizontally flip image with probability=0.5\n",
    "    transforms.ToTensor(),                           # convert the PIL Image to a tensor\n",
    "    transforms.Normalize((0.485, 0.456, 0.406),      # normalize image for pre-trained model\n",
    "                         (0.229, 0.224, 0.225))])\n",
    "\n",
    "# Set the minimum word count threshold.\n",
    "vocab_threshold = 5\n",
    "\n",
    "# Specify the batch size.\n",
    "batch_size = 10\n",
    "\n"
   ]
  },
  {
   "cell_type": "code",
   "execution_count": 2,
   "metadata": {},
   "outputs": [
    {
     "name": "stdout",
     "output_type": "stream",
     "text": [
      "loading annotations into memory...\n",
      "Done (t=0.45s)\n",
      "creating index...\n",
      "index created!\n",
      "[0/414113] Tokenizing captions...\n",
      "[100000/414113] Tokenizing captions...\n",
      "[200000/414113] Tokenizing captions...\n",
      "[300000/414113] Tokenizing captions...\n",
      "[400000/414113] Tokenizing captions...\n",
      "loading annotations into memory...\n"
     ]
    },
    {
     "name": "stderr",
     "output_type": "stream",
     "text": [
      "  0%|          | 1315/414113 [00:00<00:31, 13143.37it/s]"
     ]
    },
    {
     "name": "stdout",
     "output_type": "stream",
     "text": [
      "Done (t=0.41s)\n",
      "creating index...\n",
      "index created!\n",
      "Obtaining caption lengths...\n"
     ]
    },
    {
     "name": "stderr",
     "output_type": "stream",
     "text": [
      "100%|██████████| 414113/414113 [00:32<00:00, 12755.75it/s]\n"
     ]
    }
   ],
   "source": [
    "# Obtain the data loader.\n",
    "data_loader = get_loader(transform=transform_train,\n",
    "                         mode='train',\n",
    "                         batch_size=batch_size,\n",
    "                         vocab_threshold=vocab_threshold,\n",
    "                         vocab_from_file=False,\n",
    "                         cocoapi_loc ='../')"
   ]
  },
  {
   "cell_type": "markdown",
   "metadata": {},
   "source": [
    "When you ran the code cell above, the data loader was stored in the variable `data_loader`.  \n",
    "\n",
    "You can access the corresponding dataset as `data_loader.dataset`.  This dataset is an instance of the `CoCoDataset` class in **data_loader.py**.  If you are unfamiliar with data loaders and datasets, you are encouraged to review [this PyTorch tutorial](http://pytorch.org/tutorials/beginner/data_loading_tutorial.html).\n",
    "\n",
    "### Exploring the `__getitem__` Method\n",
    "\n",
    "The `__getitem__` method in the `CoCoDataset` class determines how an image-caption pair is pre-processed before being incorporated into a batch.  This is true for all `Dataset` classes in PyTorch; if this is unfamiliar to you, please review [the tutorial linked above](http://pytorch.org/tutorials/beginner/data_loading_tutorial.html). \n",
    "\n",
    "When the data loader is in training mode, this method begins by first obtaining the filename (`path`) of a training image and its corresponding caption (`caption`).\n",
    "\n",
    "#### Image Pre-Processing \n",
    "\n",
    "Image pre-processing is relatively straightforward (from the `__getitem__` method in the `CoCoDataset` class):\n",
    "```python\n",
    "# Convert image to tensor and pre-process using transform\n",
    "image = Image.open(os.path.join(self.img_folder, path)).convert('RGB')\n",
    "image = self.transform(image)\n",
    "```\n",
    "After loading the image in the training folder with name `path`, the image is pre-processed using the same transform (`transform_train`) that was supplied when instantiating the data loader.  \n",
    "\n",
    "#### Caption Pre-Processing \n",
    "\n",
    "The captions also need to be pre-processed and prepped for training. In this example, for generating captions, we are aiming to create a model that predicts the next token of a sentence from previous tokens, so we turn the caption associated with any image into a list of tokenized words, before casting it to a PyTorch tensor that we can use to train the network.\n",
    "\n",
    "To understand in more detail how COCO captions are pre-processed, we'll first need to take a look at the `vocab` instance variable of the `CoCoDataset` class.  The code snippet below is pulled from the `__init__` method of the `CoCoDataset` class:\n",
    "```python\n",
    "def __init__(self, transform, mode, batch_size, vocab_threshold, vocab_file, start_word, \n",
    "        end_word, unk_word, annotations_file, vocab_from_file, img_folder):\n",
    "        ...\n",
    "        self.vocab = Vocabulary(vocab_threshold, vocab_file, start_word,\n",
    "            end_word, unk_word, annotations_file, vocab_from_file)\n",
    "        ...\n",
    "```\n",
    "From the code snippet above, you can see that `data_loader.dataset.vocab` is an instance of the `Vocabulary` class from **vocabulary.py**.  Take the time now to verify this for yourself by looking at the full code in **data_loader.py**.  \n",
    "\n",
    "We use this instance to pre-process the COCO captions (from the `__getitem__` method in the `CoCoDataset` class):\n",
    "\n",
    "```python\n",
    "# Convert caption to tensor of word ids.\n",
    "tokens = nltk.tokenize.word_tokenize(str(caption).lower())   # line 1\n",
    "caption = []                                                 # line 2\n",
    "caption.append(self.vocab(self.vocab.start_word))            # line 3\n",
    "caption.extend([self.vocab(token) for token in tokens])      # line 4\n",
    "caption.append(self.vocab(self.vocab.end_word))              # line 5\n",
    "caption = torch.Tensor(caption).long()                       # line 6\n",
    "```\n",
    "\n",
    "As you will see soon, this code converts any string-valued caption to a list of integers, before casting it to a PyTorch tensor.  To see how this code works, we'll apply it to the sample caption in the next code cell."
   ]
  },
  {
   "cell_type": "code",
   "execution_count": 3,
   "metadata": {
    "collapsed": true
   },
   "outputs": [],
   "source": [
    "sample_caption = 'A person doing a trick on a rail while riding a skateboard.'"
   ]
  },
  {
   "cell_type": "markdown",
   "metadata": {},
   "source": [
    "In **`line 1`** of the code snippet, every letter in the caption is converted to lowercase, and the [`nltk.tokenize.word_tokenize`](http://www.nltk.org/) function is used to obtain a list of string-valued tokens.  Run the next code cell to visualize the effect on `sample_caption`."
   ]
  },
  {
   "cell_type": "code",
   "execution_count": 4,
   "metadata": {},
   "outputs": [
    {
     "name": "stdout",
     "output_type": "stream",
     "text": [
      "['a', 'person', 'doing', 'a', 'trick', 'on', 'a', 'rail', 'while', 'riding', 'a', 'skateboard', '.']\n"
     ]
    }
   ],
   "source": [
    "#import nltk\n",
    "\n",
    "sample_tokens = nltk.tokenize.word_tokenize(str(sample_caption).lower())\n",
    "print(sample_tokens)"
   ]
  },
  {
   "cell_type": "markdown",
   "metadata": {},
   "source": [
    "In **`line 2`** and **`line 3`** we initialize an empty list and append an integer to mark the start of a caption.  The [paper](https://arxiv.org/pdf/1411.4555.pdf) that you are encouraged to implement uses a special start word (and a special end word, which we'll examine below) to mark the beginning (and end) of a caption.\n",
    "\n",
    "This special start word (`\"<start>\"`) is decided when instantiating the data loader and is passed as a parameter (`start_word`).  You are **required** to keep this parameter at its default value (`start_word=\"<start>\"`).\n",
    "\n",
    "As you will see below, the integer `0` is always used to mark the start of a caption."
   ]
  },
  {
   "cell_type": "code",
   "execution_count": 5,
   "metadata": {},
   "outputs": [
    {
     "name": "stdout",
     "output_type": "stream",
     "text": [
      "Special start word: <start>\n",
      "[0]\n"
     ]
    }
   ],
   "source": [
    "sample_caption = []\n",
    "\n",
    "start_word = data_loader.dataset.vocab.start_word\n",
    "print('Special start word:', start_word)\n",
    "sample_caption.append(data_loader.dataset.vocab(start_word))\n",
    "print(sample_caption)"
   ]
  },
  {
   "cell_type": "markdown",
   "metadata": {},
   "source": [
    "In **`line 4`**, we continue the list by adding integers that correspond to each of the tokens in the caption."
   ]
  },
  {
   "cell_type": "code",
   "execution_count": 6,
   "metadata": {},
   "outputs": [
    {
     "name": "stdout",
     "output_type": "stream",
     "text": [
      "[0, 3, 98, 754, 3, 396, 39, 3, 1009, 207, 139, 3, 753, 18]\n"
     ]
    }
   ],
   "source": [
    "sample_caption.extend([data_loader.dataset.vocab(token) for token in sample_tokens])\n",
    "print(sample_caption)"
   ]
  },
  {
   "cell_type": "markdown",
   "metadata": {},
   "source": [
    "In **`line 5`**, we append a final integer to mark the end of the caption.  \n",
    "\n",
    "Identical to the case of the special start word (above), the special end word (`\"<end>\"`) is decided when instantiating the data loader and is passed as a parameter (`end_word`).  You are **required** to keep this parameter at its default value (`end_word=\"<end>\"`).\n",
    "\n",
    "As you will see below, the integer `1` is always used to  mark the end of a caption."
   ]
  },
  {
   "cell_type": "code",
   "execution_count": 7,
   "metadata": {},
   "outputs": [
    {
     "name": "stdout",
     "output_type": "stream",
     "text": [
      "Special end word: <end>\n",
      "[0, 3, 98, 754, 3, 396, 39, 3, 1009, 207, 139, 3, 753, 18, 1]\n"
     ]
    }
   ],
   "source": [
    "end_word = data_loader.dataset.vocab.end_word\n",
    "print('Special end word:', end_word)\n",
    "\n",
    "sample_caption.append(data_loader.dataset.vocab(end_word))\n",
    "print(sample_caption)"
   ]
  },
  {
   "cell_type": "markdown",
   "metadata": {},
   "source": [
    "Finally, in **`line 6`**, we convert the list of integers to a PyTorch tensor and cast it to [long type](http://pytorch.org/docs/master/tensors.html#torch.Tensor.long).  You can read more about the different types of PyTorch tensors on the [website](http://pytorch.org/docs/master/tensors.html)."
   ]
  },
  {
   "cell_type": "code",
   "execution_count": 8,
   "metadata": {},
   "outputs": [
    {
     "name": "stdout",
     "output_type": "stream",
     "text": [
      "tensor([    0,     3,    98,   754,     3,   396,    39,     3,  1009,\n",
      "          207,   139,     3,   753,    18,     1])\n"
     ]
    }
   ],
   "source": [
    "#import torch\n",
    "\n",
    "sample_caption = torch.Tensor(sample_caption).long()\n",
    "print(sample_caption)"
   ]
  },
  {
   "cell_type": "markdown",
   "metadata": {},
   "source": [
    "And that's it!  In summary, any caption is converted to a list of tokens, with _special_ start and end tokens marking the beginning and end of the sentence:\n",
    "```\n",
    "[<start>, 'a', 'person', 'doing', 'a', 'trick', 'while', 'riding', 'a', 'skateboard', '.', <end>]\n",
    "```\n",
    "This list of tokens is then turned into a list of integers, where every distinct word in the vocabulary has an associated integer value:\n",
    "```\n",
    "[0, 3, 98, 754, 3, 396, 207, 139, 3, 753, 18, 1]\n",
    "```\n",
    "Finally, this list is converted to a PyTorch tensor.  All of the captions in the COCO dataset are pre-processed using this same procedure from **`lines 1-6`** described above.  \n",
    "\n",
    "As you saw, in order to convert a token to its corresponding integer, we call `data_loader.dataset.vocab` as a function.  The details of how this call works can be explored in the `__call__` method in the `Vocabulary` class in **vocabulary.py**.  \n",
    "\n",
    "```python\n",
    "def __call__(self, word):\n",
    "    if not word in self.word2idx:\n",
    "        return self.word2idx[self.unk_word]\n",
    "    return self.word2idx[word]\n",
    "```\n",
    "\n",
    "The `word2idx` instance variable is a Python [dictionary](https://docs.python.org/3/tutorial/datastructures.html#dictionaries) that is indexed by string-valued keys (mostly tokens obtained from training captions).  For each key, the corresponding value is the integer that the token is mapped to in the pre-processing step.\n",
    "\n",
    "Use the code cell below to view a subset of this dictionary."
   ]
  },
  {
   "cell_type": "code",
   "execution_count": 9,
   "metadata": {
    "scrolled": true
   },
   "outputs": [
    {
     "data": {
      "text/plain": [
       "{',': 86,\n",
       " '.': 18,\n",
       " '<end>': 1,\n",
       " '<start>': 0,\n",
       " '<unk>': 2,\n",
       " 'a': 3,\n",
       " 'above': 45,\n",
       " 'across': 31,\n",
       " 'all': 15,\n",
       " 'an': 47,\n",
       " 'and': 6,\n",
       " 'angled': 48,\n",
       " 'appliances': 17,\n",
       " 'are': 52,\n",
       " 'backsplash': 87,\n",
       " 'balls': 75,\n",
       " 'bathroom': 10,\n",
       " 'beach': 55,\n",
       " 'beautifully': 49,\n",
       " 'beetle': 38,\n",
       " 'black': 60,\n",
       " 'blue': 19,\n",
       " 'boards': 83,\n",
       " 'border': 41,\n",
       " 'brown': 84,\n",
       " 'butterflies': 42,\n",
       " 'butterfly': 22,\n",
       " 'cabinets': 85,\n",
       " 'car': 36,\n",
       " 'carrying': 81,\n",
       " 'child': 92,\n",
       " 'clean': 5,\n",
       " 'contains': 68,\n",
       " 'counters': 89,\n",
       " 'decorated': 8,\n",
       " 'dim': 95,\n",
       " 'dining': 27,\n",
       " 'down': 54,\n",
       " 'each': 72,\n",
       " 'empty': 9,\n",
       " 'few': 94,\n",
       " 'floor': 63,\n",
       " 'for': 71,\n",
       " 'from': 34,\n",
       " 'grey': 88,\n",
       " 'group': 80,\n",
       " 'in': 77,\n",
       " 'inside': 58,\n",
       " 'it': 46,\n",
       " 'its': 16,\n",
       " 'kitchen': 14,\n",
       " 'metal': 74,\n",
       " 'near': 79,\n",
       " 'needs': 65,\n",
       " 'of': 13,\n",
       " 'on': 39,\n",
       " 'paint': 43,\n",
       " 'panoramic': 11,\n",
       " 'people': 51,\n",
       " 'person': 98,\n",
       " 'photo': 26,\n",
       " 'protected': 99,\n",
       " 'red': 35,\n",
       " 'repairs': 66,\n",
       " 'road': 40,\n",
       " 'room': 28,\n",
       " 'sand': 78,\n",
       " 'several': 73,\n",
       " 'sign': 30,\n",
       " 'sink': 56,\n",
       " 'sinks': 69,\n",
       " 'sit': 76,\n",
       " 'small': 59,\n",
       " 'square': 61,\n",
       " 'stop': 29,\n",
       " 'street': 33,\n",
       " 'surf': 82,\n",
       " 'surfer': 90,\n",
       " 'system': 97,\n",
       " 'that': 64,\n",
       " 'the': 32,\n",
       " 'themed': 23,\n",
       " 'tile': 62,\n",
       " 'tiles': 25,\n",
       " 'toilet': 57,\n",
       " 'towel': 70,\n",
       " 'transportation': 96,\n",
       " 'two': 50,\n",
       " 'vandalized': 37,\n",
       " 'vanity': 67,\n",
       " 'very': 4,\n",
       " 'view': 12,\n",
       " 'walk': 93,\n",
       " 'walking': 53,\n",
       " 'wall': 24,\n",
       " 'walls': 44,\n",
       " 'well': 7,\n",
       " 'white': 20,\n",
       " 'with': 21,\n",
       " 'woman': 91}"
      ]
     },
     "execution_count": 9,
     "metadata": {},
     "output_type": "execute_result"
    }
   ],
   "source": [
    "# Preview the word2idx dictionary.\n",
    "dict(list(data_loader.dataset.vocab.word2idx.items())[:100])"
   ]
  },
  {
   "cell_type": "markdown",
   "metadata": {},
   "source": [
    "We also print the total number of keys."
   ]
  },
  {
   "cell_type": "code",
   "execution_count": 10,
   "metadata": {},
   "outputs": [
    {
     "name": "stdout",
     "output_type": "stream",
     "text": [
      "Total number of tokens in vocabulary: 8855\n"
     ]
    }
   ],
   "source": [
    "# Print the total number of keys in the word2idx dictionary.\n",
    "print('Total number of tokens in vocabulary:', len(data_loader.dataset.vocab))"
   ]
  },
  {
   "cell_type": "markdown",
   "metadata": {},
   "source": [
    "As you will see if you examine the code in **vocabulary.py**, the `word2idx` dictionary is created by looping over the captions in the training dataset.  If a token appears no less than `vocab_threshold` times in the training set, then it is added as a key to the dictionary and assigned a corresponding unique integer.  You will have the option later to amend the `vocab_threshold` argument when instantiating your data loader.  Note that in general, **smaller** values for `vocab_threshold` yield a **larger** number of tokens in the vocabulary.  You are encouraged to check this for yourself in the next code cell by decreasing the value of `vocab_threshold` before creating a new data loader.  "
   ]
  },
  {
   "cell_type": "code",
   "execution_count": 11,
   "metadata": {},
   "outputs": [
    {
     "name": "stdout",
     "output_type": "stream",
     "text": [
      "loading annotations into memory...\n",
      "Done (t=0.44s)\n",
      "creating index...\n",
      "index created!\n",
      "[0/414113] Tokenizing captions...\n",
      "[100000/414113] Tokenizing captions...\n",
      "[200000/414113] Tokenizing captions...\n",
      "[300000/414113] Tokenizing captions...\n",
      "[400000/414113] Tokenizing captions...\n",
      "loading annotations into memory...\n"
     ]
    },
    {
     "name": "stderr",
     "output_type": "stream",
     "text": [
      "  0%|          | 1268/414113 [00:00<00:32, 12676.81it/s]"
     ]
    },
    {
     "name": "stdout",
     "output_type": "stream",
     "text": [
      "Done (t=0.41s)\n",
      "creating index...\n",
      "index created!\n",
      "Obtaining caption lengths...\n"
     ]
    },
    {
     "name": "stderr",
     "output_type": "stream",
     "text": [
      "100%|██████████| 414113/414113 [00:31<00:00, 13201.34it/s]\n"
     ]
    }
   ],
   "source": [
    "# Modify the minimum word count threshold.\n",
    "vocab_threshold = 5#original is 5\n",
    "\n",
    "# Obtain the data loader.\n",
    "data_loader = get_loader(transform=transform_train,\n",
    "                         mode='train',\n",
    "                         batch_size=batch_size,\n",
    "                         vocab_threshold=vocab_threshold,\n",
    "                         vocab_from_file=False,\n",
    "                        cocoapi_loc ='../')"
   ]
  },
  {
   "cell_type": "code",
   "execution_count": 12,
   "metadata": {},
   "outputs": [
    {
     "name": "stdout",
     "output_type": "stream",
     "text": [
      "Total number of tokens in vocabulary: 8855\n"
     ]
    }
   ],
   "source": [
    "# Print the total number of keys in the word2idx dictionary.\n",
    "print('Total number of tokens in vocabulary:', len(data_loader.dataset.vocab))"
   ]
  },
  {
   "cell_type": "markdown",
   "metadata": {},
   "source": [
    "There are also a few special keys in the `word2idx` dictionary.  You are already familiar with the special start word (`\"<start>\"`) and special end word (`\"<end>\"`).  There is one more special token, corresponding to unknown words (`\"<unk>\"`).  All tokens that don't appear anywhere in the `word2idx` dictionary are considered unknown words.  In the pre-processing step, any unknown tokens are mapped to the integer `2`."
   ]
  },
  {
   "cell_type": "code",
   "execution_count": 13,
   "metadata": {},
   "outputs": [
    {
     "name": "stdout",
     "output_type": "stream",
     "text": [
      "Special unknown word: <unk>\n",
      "All unknown words are mapped to this integer: 2\n"
     ]
    }
   ],
   "source": [
    "unk_word = data_loader.dataset.vocab.unk_word\n",
    "print('Special unknown word:', unk_word)\n",
    "\n",
    "print('All unknown words are mapped to this integer:', data_loader.dataset.vocab(unk_word))"
   ]
  },
  {
   "cell_type": "markdown",
   "metadata": {},
   "source": [
    "Check this for yourself below, by pre-processing the provided nonsense words that never appear in the training captions. "
   ]
  },
  {
   "cell_type": "code",
   "execution_count": 14,
   "metadata": {},
   "outputs": [
    {
     "name": "stdout",
     "output_type": "stream",
     "text": [
      "2\n",
      "553\n"
     ]
    }
   ],
   "source": [
    "print(data_loader.dataset.vocab('jfkafejw'))\n",
    "print(data_loader.dataset.vocab('like'))"
   ]
  },
  {
   "cell_type": "markdown",
   "metadata": {},
   "source": [
    "The final thing to mention is the `vocab_from_file` argument that is supplied when creating a data loader.  To understand this argument, note that when you create a new data loader, the vocabulary (`data_loader.dataset.vocab`) is saved as a [pickle](https://docs.python.org/3/library/pickle.html) file in the project folder, with filename `vocab.pkl`.\n",
    "\n",
    "If you are still tweaking the value of the `vocab_threshold` argument, you **must** set `vocab_from_file=False` to have your changes take effect.  \n",
    "\n",
    "But once you are happy with the value that you have chosen for the `vocab_threshold` argument, you need only run the data loader *one more time* with your chosen `vocab_threshold` to save the new vocabulary to file.  Then, you can henceforth set `vocab_from_file=True` to load the vocabulary from file and speed the instantiation of the data loader.  Note that building the vocabulary from scratch is the most time-consuming part of instantiating the data loader, and so you are strongly encouraged to set `vocab_from_file=True` as soon as you are able.\n",
    "\n",
    "Note that if `vocab_from_file=True`, then any supplied argument for `vocab_threshold` when instantiating the data loader is completely ignored."
   ]
  },
  {
   "cell_type": "code",
   "execution_count": 15,
   "metadata": {},
   "outputs": [
    {
     "name": "stdout",
     "output_type": "stream",
     "text": [
      "Vocabulary successfully loaded from vocab.pkl file!\n",
      "loading annotations into memory...\n"
     ]
    },
    {
     "name": "stderr",
     "output_type": "stream",
     "text": [
      "  0%|          | 1110/414113 [00:00<00:37, 11096.89it/s]"
     ]
    },
    {
     "name": "stdout",
     "output_type": "stream",
     "text": [
      "Done (t=0.44s)\n",
      "creating index...\n",
      "index created!\n",
      "Obtaining caption lengths...\n"
     ]
    },
    {
     "name": "stderr",
     "output_type": "stream",
     "text": [
      "100%|██████████| 414113/414113 [00:31<00:00, 13121.89it/s]\n"
     ]
    }
   ],
   "source": [
    "# Obtain the data loader (from file). Note that it runs much faster than before!\n",
    "data_loader = get_loader(transform=transform_train,\n",
    "                         mode='train',\n",
    "                         batch_size=batch_size,\n",
    "                         vocab_from_file=True,\n",
    "                          cocoapi_loc ='../')"
   ]
  },
  {
   "cell_type": "code",
   "execution_count": 16,
   "metadata": {},
   "outputs": [
    {
     "name": "stdout",
     "output_type": "stream",
     "text": [
      "Total number of tokens in vocabulary: 8855\n"
     ]
    }
   ],
   "source": [
    "# Print the total number of keys in the word2idx dictionary.\n",
    "print('Total number of tokens in vocabulary:', len(data_loader.dataset.vocab))"
   ]
  },
  {
   "cell_type": "markdown",
   "metadata": {},
   "source": [
    "In the next section, you will learn how to use the data loader to obtain batches of training data."
   ]
  },
  {
   "cell_type": "markdown",
   "metadata": {},
   "source": [
    "<a id='step2'></a>\n",
    "## Step 2: Use the Data Loader to Obtain Batches\n",
    "\n",
    "The captions in the dataset vary greatly in length.  You can see this by examining `data_loader.dataset.caption_lengths`, a Python list with one entry for each training caption (where the value stores the length of the corresponding caption).  \n",
    "\n",
    "In the code cell below, we use this list to print the total number of captions in the training data with each length.  As you will see below, the majority of captions have length 10.  Likewise, very short and very long captions are quite rare.  "
   ]
  },
  {
   "cell_type": "code",
   "execution_count": 17,
   "metadata": {},
   "outputs": [
    {
     "name": "stdout",
     "output_type": "stream",
     "text": [
      "value: 10 --- count: 86334\n",
      "value: 11 --- count: 79948\n",
      "value:  9 --- count: 71934\n",
      "value: 12 --- count: 57637\n",
      "value: 13 --- count: 37645\n",
      "value: 14 --- count: 22335\n",
      "value:  8 --- count: 20771\n",
      "value: 15 --- count: 12841\n",
      "value: 16 --- count:  7729\n",
      "value: 17 --- count:  4842\n",
      "value: 18 --- count:  3104\n",
      "value: 19 --- count:  2014\n",
      "value:  7 --- count:  1597\n",
      "value: 20 --- count:  1451\n",
      "value: 21 --- count:   999\n",
      "value: 22 --- count:   683\n",
      "value: 23 --- count:   534\n",
      "value: 24 --- count:   383\n",
      "value: 25 --- count:   277\n",
      "value: 26 --- count:   215\n",
      "value: 27 --- count:   159\n",
      "value: 28 --- count:   115\n",
      "value: 29 --- count:    86\n",
      "value: 30 --- count:    58\n",
      "value: 31 --- count:    49\n",
      "value: 32 --- count:    44\n",
      "value: 34 --- count:    39\n",
      "value: 37 --- count:    32\n",
      "value: 33 --- count:    31\n",
      "value: 35 --- count:    31\n",
      "value: 36 --- count:    26\n",
      "value: 38 --- count:    18\n",
      "value: 39 --- count:    18\n",
      "value: 43 --- count:    16\n",
      "value: 44 --- count:    16\n",
      "value: 48 --- count:    12\n",
      "value: 45 --- count:    11\n",
      "value: 42 --- count:    10\n",
      "value: 40 --- count:     9\n",
      "value: 49 --- count:     9\n",
      "value: 46 --- count:     9\n",
      "value: 47 --- count:     7\n",
      "value: 50 --- count:     6\n",
      "value: 51 --- count:     6\n",
      "value: 41 --- count:     6\n",
      "value: 52 --- count:     5\n",
      "value: 54 --- count:     3\n",
      "value: 56 --- count:     2\n",
      "value:  6 --- count:     2\n",
      "value: 53 --- count:     2\n",
      "value: 55 --- count:     2\n",
      "value: 57 --- count:     1\n"
     ]
    }
   ],
   "source": [
    "from collections import Counter\n",
    "\n",
    "# Tally the total number of training captions with each length.\n",
    "counter = Counter(data_loader.dataset.caption_lengths)\n",
    "lengths = sorted(counter.items(), key=lambda pair: pair[1], reverse=True)\n",
    "for value, count in lengths:\n",
    "    print('value: %2d --- count: %5d' % (value, count))"
   ]
  },
  {
   "cell_type": "markdown",
   "metadata": {},
   "source": [
    "To generate batches of training data, we begin by first sampling a caption length (where the probability that any length is drawn is proportional to the number of captions with that length in the dataset).  Then, we retrieve a batch of size `batch_size` of image-caption pairs, where all captions have the sampled length.  This approach for assembling batches matches the procedure in [this paper](https://arxiv.org/pdf/1502.03044.pdf) and has been shown to be computationally efficient without degrading performance.\n",
    "\n",
    "Run the code cell below to generate a batch.  The `get_train_indices` method in the `CoCoDataset` class first samples a caption length, and then samples `batch_size` indices corresponding to training data points with captions of that length.  These indices are stored below in `indices`.\n",
    "\n",
    "These indices are supplied to the data loader, which then is used to retrieve the corresponding data points.  The pre-processed images and captions in the batch are stored in `images` and `captions`."
   ]
  },
  {
   "cell_type": "code",
   "execution_count": 18,
   "metadata": {
    "scrolled": true
   },
   "outputs": [
    {
     "name": "stdout",
     "output_type": "stream",
     "text": [
      "sampled indices: [42550, 18550, 261435, 63835, 234108, 274247, 56653, 96708, 124853, 392889]\n",
      "images.shape: torch.Size([10, 3, 224, 224])\n",
      "captions.shape: torch.Size([10, 10])\n",
      "images: tensor([[[[ 0.3481,  0.1083,  0.0398,  ...,  0.4508,  0.4166,  0.4508],\n",
      "          [ 0.3994,  0.1768,  0.0056,  ...,  0.4508,  0.4166,  0.4508],\n",
      "          [ 0.4679,  0.2796,  0.0227,  ...,  0.4679,  0.4508,  0.4337],\n",
      "          ...,\n",
      "          [ 0.1083,  0.0741,  0.0398,  ..., -0.1999, -0.2342, -0.2684],\n",
      "          [ 0.0912,  0.0912,  0.0912,  ..., -0.1999, -0.2513, -0.2342],\n",
      "          [ 0.1426,  0.1254,  0.1254,  ..., -0.2171, -0.2513, -0.2171]],\n",
      "\n",
      "         [[ 0.9755,  0.6604,  0.5728,  ...,  0.7304,  0.6954,  0.7304],\n",
      "          [ 1.0455,  0.7479,  0.5378,  ...,  0.7129,  0.6779,  0.7129],\n",
      "          [ 1.1506,  0.8880,  0.5553,  ...,  0.7304,  0.7129,  0.6954],\n",
      "          ...,\n",
      "          [ 0.4853,  0.4328,  0.3978,  ..., -0.0049, -0.0399, -0.0749],\n",
      "          [ 0.4678,  0.4678,  0.4678,  ..., -0.0224, -0.0574, -0.0574],\n",
      "          [ 0.5028,  0.4678,  0.4678,  ..., -0.0399, -0.0574, -0.0224]],\n",
      "\n",
      "         [[-0.3927, -0.9156, -1.0898,  ..., -1.1247, -1.1421, -1.1596],\n",
      "          [-0.2707, -0.7413, -1.0376,  ..., -1.0550, -1.1073, -1.1247],\n",
      "          [-0.0964, -0.5147, -0.9330,  ..., -1.0201, -1.0724, -1.1073],\n",
      "          ...,\n",
      "          [-0.7761, -0.8110, -0.8110,  ..., -1.2293, -1.2990, -1.3687],\n",
      "          [-0.7587, -0.7761, -0.7238,  ..., -1.1770, -1.2990, -1.3164],\n",
      "          [-0.6541, -0.6541, -0.6193,  ..., -1.2119, -1.2816, -1.2641]]],\n",
      "\n",
      "\n",
      "        [[[ 2.1290,  1.7865,  1.1872,  ..., -0.9192, -0.9020, -0.8335],\n",
      "          [ 2.1290,  1.7523,  1.1529,  ..., -0.9877, -0.9877, -0.9192],\n",
      "          [ 2.1290,  1.7352,  1.1529,  ..., -1.0048, -0.9877, -0.9534],\n",
      "          ...,\n",
      "          [ 0.9132,  0.8447,  0.8789,  ...,  0.8276,  0.7762,  0.7419],\n",
      "          [ 0.7077,  0.6734,  0.7248,  ...,  0.8618,  0.8789,  0.8276],\n",
      "          [ 0.5878,  0.5878,  0.5536,  ...,  1.0331,  1.0159,  0.9303]],\n",
      "\n",
      "         [[-0.8803, -1.1779, -1.5455,  ..., -0.5651, -0.5126, -0.4776],\n",
      "          [-0.8978, -1.2129, -1.5630,  ..., -0.6527, -0.6001, -0.5826],\n",
      "          [-0.8803, -1.2129, -1.5455,  ..., -0.6702, -0.6527, -0.6527],\n",
      "          ...,\n",
      "          [ 1.0805,  1.0105,  1.0455,  ...,  1.0105,  0.9580,  0.9230],\n",
      "          [ 0.8529,  0.8179,  0.8704,  ...,  1.0455,  1.0455,  1.0105],\n",
      "          [ 0.7304,  0.7304,  0.6954,  ...,  1.2206,  1.1856,  1.1155]],\n",
      "\n",
      "         [[-0.8633, -1.1073, -1.4384,  ..., -0.0964, -0.0441, -0.0267],\n",
      "          [-0.8981, -1.1421, -1.4384,  ..., -0.1312, -0.1138, -0.1138],\n",
      "          [-0.9330, -1.1770, -1.4384,  ..., -0.1661, -0.1487, -0.1661],\n",
      "          ...,\n",
      "          [ 1.2108,  1.1411,  1.1934,  ...,  1.1759,  1.1237,  1.1237],\n",
      "          [ 1.0017,  0.9668,  1.0365,  ...,  1.2108,  1.2282,  1.1585],\n",
      "          [ 0.8971,  0.9145,  0.8797,  ...,  1.3851,  1.3502,  1.2805]]],\n",
      "\n",
      "\n",
      "        [[[ 1.2557,  1.2728,  0.0569,  ..., -0.1486,  0.5193,  0.5707],\n",
      "          [ 1.2214,  1.3070,  0.0569,  ..., -1.2788, -1.3473, -1.3987],\n",
      "          [ 1.3070,  1.2728, -0.0116,  ..., -1.0390, -1.0562, -1.1075],\n",
      "          ...,\n",
      "          [ 0.4851,  0.4679,  0.4337,  ...,  0.4508,  0.4508,  0.3823],\n",
      "          [ 0.4679,  0.4679,  0.4679,  ...,  0.3994,  0.3823,  0.4166],\n",
      "          [-0.1657, -0.1657,  0.0398,  ...,  0.4508,  0.4851,  0.4679]],\n",
      "\n",
      "         [[ 1.1155,  0.6779, -0.6527,  ..., -0.5476, -0.0049, -0.0224],\n",
      "          [ 1.0455,  0.7129, -0.6527,  ..., -1.2829, -1.3880, -1.5105],\n",
      "          [ 1.0630,  0.6954, -0.7402,  ..., -1.1779, -1.1078, -1.1078],\n",
      "          ...,\n",
      "          [ 0.5378,  0.5203,  0.5028,  ...,  0.1702,  0.2227,  0.2052],\n",
      "          [ 0.5203,  0.5378,  0.5553,  ...,  0.2052,  0.2052,  0.2227],\n",
      "          [-0.1099, -0.1099,  0.0651,  ...,  0.3102,  0.3452,  0.2752]],\n",
      "\n",
      "         [[ 0.5834, -0.8110, -1.1247,  ..., -0.6193, -0.0790, -0.0615],\n",
      "          [ 0.4962, -0.7587, -1.1073,  ..., -1.1770, -1.2990, -1.4036],\n",
      "          [ 0.4614, -0.7761, -1.1770,  ..., -1.1421, -1.0724, -1.0376],\n",
      "          ...,\n",
      "          [ 0.5834,  0.5834,  0.6008,  ...,  0.3568,  0.3568,  0.2696],\n",
      "          [ 0.6705,  0.6879,  0.6705,  ...,  0.3393,  0.3219,  0.3045],\n",
      "          [ 0.0256,  0.0256,  0.1825,  ...,  0.4091,  0.4439,  0.3916]]],\n",
      "\n",
      "\n",
      "        ...,\n",
      "\n",
      "\n",
      "        [[[ 1.8037,  1.8037,  1.8037,  ...,  1.8037,  1.8037,  1.8037],\n",
      "          [ 1.8037,  1.8037,  1.8037,  ...,  1.8037,  1.8037,  1.8037],\n",
      "          [ 1.8037,  1.8037,  1.8037,  ...,  1.8037,  1.8037,  1.8037],\n",
      "          ...,\n",
      "          [ 0.3823,  0.7077,  0.9646,  ...,  1.0159,  1.3242,  1.1700],\n",
      "          [ 1.1529,  1.3755,  1.3070,  ...,  1.1358,  1.1700,  1.3242],\n",
      "          [ 1.1015,  1.0673,  1.4783,  ...,  1.3927,  1.3413,  1.5297]],\n",
      "\n",
      "         [[ 1.8158,  1.8158,  1.8158,  ...,  1.8158,  1.8158,  1.8158],\n",
      "          [ 1.8158,  1.8158,  1.8158,  ...,  1.8158,  1.8158,  1.8158],\n",
      "          [ 1.8158,  1.8158,  1.8158,  ...,  1.8158,  1.8158,  1.8158],\n",
      "          ...,\n",
      "          [ 0.1527,  0.4328,  0.6254,  ...,  0.6429,  0.9230,  0.8004],\n",
      "          [ 0.8004,  0.9930,  0.9580,  ...,  0.7304,  0.7304,  0.9405],\n",
      "          [ 0.7304,  0.6604,  1.0805,  ...,  1.0455,  0.9405,  1.1331]],\n",
      "\n",
      "         [[ 2.0474,  2.0474,  2.0474,  ...,  2.0474,  2.0474,  2.0474],\n",
      "          [ 2.0474,  2.0474,  2.0474,  ...,  2.0474,  2.0474,  2.0474],\n",
      "          [ 2.0474,  2.0474,  2.0474,  ...,  2.0474,  2.0474,  2.0474],\n",
      "          ...,\n",
      "          [-0.0615,  0.2348,  0.4265,  ...,  0.3742,  0.6705,  0.5136],\n",
      "          [ 0.5136,  0.7576,  0.7751,  ...,  0.5136,  0.4962,  0.6705],\n",
      "          [ 0.4439,  0.4265,  0.9145,  ...,  0.8797,  0.7576,  0.9494]]],\n",
      "\n",
      "\n",
      "        [[[-1.2617, -1.3130, -1.4158,  ...,  0.8789,  0.9132,  0.9646],\n",
      "          [-1.5014, -1.5185, -1.4500,  ...,  0.9303,  0.9303,  0.9646],\n",
      "          [-1.5185, -1.5699, -1.5357,  ...,  0.8789,  0.8618,  0.9132],\n",
      "          ...,\n",
      "          [ 0.9303,  0.8447,  0.8104,  ..., -0.6281, -0.6452, -0.6109],\n",
      "          [ 1.0502,  0.9132,  0.8618,  ..., -0.6452, -0.5767, -0.6109],\n",
      "          [ 1.0502,  0.9988,  0.8961,  ..., -0.6109, -0.5424, -0.7479]],\n",
      "\n",
      "         [[-1.2829, -1.2829, -1.1429,  ...,  1.1155,  1.1155,  1.1155],\n",
      "          [-1.4580, -1.3880, -1.3354,  ...,  1.1155,  1.0805,  1.1155],\n",
      "          [-1.5280, -1.4930, -1.4230,  ...,  1.1155,  1.1155,  1.1155],\n",
      "          ...,\n",
      "          [-0.0399, -0.0574, -0.1975,  ..., -0.5126, -0.4776, -0.4951],\n",
      "          [ 0.1176,  0.0301, -0.0224,  ..., -0.5476, -0.5476, -0.5476],\n",
      "          [ 0.0476,  0.0826,  0.0126,  ..., -0.4951, -0.5301, -0.5826]],\n",
      "\n",
      "         [[-1.3861, -1.3513, -0.9853,  ...,  1.1585,  1.1237,  1.1585],\n",
      "          [-1.4384, -1.4210, -1.1596,  ...,  1.1934,  1.1411,  1.1934],\n",
      "          [-1.4733, -1.4907, -1.2293,  ...,  1.1934,  1.1759,  1.1934],\n",
      "          ...,\n",
      "          [-1.0550, -1.1073, -1.1247,  ..., -0.3578, -0.3404, -0.3753],\n",
      "          [-0.9504, -0.9504, -1.0376,  ..., -0.3230, -0.4101, -0.4275],\n",
      "          [-0.9678, -0.9853, -0.9853,  ..., -0.4798, -0.3927, -0.3055]]],\n",
      "\n",
      "\n",
      "        [[[-1.7925, -1.8439, -1.8953,  ..., -0.1486,  0.0741,  0.2967],\n",
      "          [-1.7583, -1.8268, -1.8610,  ..., -0.1486,  0.0741,  0.3309],\n",
      "          [-1.7240, -1.8268, -1.8268,  ..., -0.0972,  0.0741,  0.3138],\n",
      "          ...,\n",
      "          [-2.1008, -2.1008, -2.1179,  ..., -1.1418, -1.1247, -1.0733],\n",
      "          [-2.1179, -2.1179, -2.1179,  ..., -1.3815, -1.3302, -1.2274],\n",
      "          [-2.1179, -2.1008, -2.1008,  ..., -1.7240, -1.6555, -1.5699]],\n",
      "\n",
      "         [[-1.9307, -1.9307, -1.9832,  ..., -0.5301, -0.4251, -0.3025],\n",
      "          [-1.8957, -1.8957, -1.9307,  ..., -0.5301, -0.4251, -0.2675],\n",
      "          [-1.8606, -1.8957, -1.9132,  ..., -0.4601, -0.4251, -0.3025],\n",
      "          ...,\n",
      "          [-2.0182, -2.0182, -2.0182,  ..., -0.8803, -0.8627, -0.8277],\n",
      "          [-2.0357, -2.0357, -2.0357,  ..., -1.1078, -1.0553, -0.9328],\n",
      "          [-2.0357, -2.0182, -2.0357,  ..., -1.6155, -1.5105, -1.4055]],\n",
      "\n",
      "         [[-1.8044, -1.8044, -1.8044,  ..., -0.6890, -0.5495, -0.4275],\n",
      "          [-1.7870, -1.7870, -1.7696,  ..., -0.6890, -0.5495, -0.3927],\n",
      "          [-1.7522, -1.7870, -1.7347,  ..., -0.6193, -0.5321, -0.3927],\n",
      "          ...,\n",
      "          [-1.7870, -1.7870, -1.8044,  ..., -1.7522, -1.7696, -1.7870],\n",
      "          [-1.8044, -1.8044, -1.8044,  ..., -1.7173, -1.7522, -1.7522],\n",
      "          [-1.8044, -1.7870, -1.7870,  ..., -1.7870, -1.7696, -1.7696]]]])\n",
      "captions: tensor([[    0,   250,   130,     3,  1518,    13,   484,    28,    69,\n",
      "             1],\n",
      "        [    0,    92,   697,    54,     3,   698,   730,     3,  4446,\n",
      "             1],\n",
      "        [    0,     3,    94,   741,    77,     3,    33,   825,   337,\n",
      "             1],\n",
      "        [    0,     3,   679,    13,   701,    58,    13,     3,   475,\n",
      "             1],\n",
      "        [    0,     3,  4867,  1101,   174,    64,   130,   394,    19,\n",
      "             1],\n",
      "        [    0,    47,   327,   652,    13,  1405,    39,     3,   198,\n",
      "             1],\n",
      "        [    0,   991,  1606,  2044,   161,  5217,    34,    32,   196,\n",
      "             1],\n",
      "        [    0,   366,   863,   170,    77,    32,    78,   360,   159,\n",
      "             1],\n",
      "        [    0,     3,    20,   728,    21,   193,  2523,    39,    46,\n",
      "             1],\n",
      "        [    0,     3,   169,    21,     3,  1179,  7312,   160,   720,\n",
      "             1]])\n"
     ]
    }
   ],
   "source": [
    "import numpy as np\n",
    "import torch.utils.data as data\n",
    "\n",
    "# Randomly sample a caption length, and sample indices with that length.\n",
    "# with 10 sampled indices is becasue batch_size = 10\n",
    "indices = data_loader.dataset.get_train_indices()\n",
    "print('sampled indices:', indices)\n",
    "\n",
    "# Create and assign a batch sampler to retrieve a batch with the sampled indices.\n",
    "new_sampler = data.sampler.SubsetRandomSampler(indices=indices)\n",
    "data_loader.batch_sampler.sampler = new_sampler\n",
    "    \n",
    "# Obtain the batch.\n",
    "images, captions = next(iter(data_loader))\n",
    "    \n",
    "print('images.shape:', images.shape)\n",
    "print('captions.shape:', captions.shape)\n",
    "\n",
    "# (Optional) Uncomment the lines of code below to print the pre-processed images and captions.\n",
    "print('images:', images)\n",
    "print('captions:', captions)"
   ]
  },
  {
   "cell_type": "markdown",
   "metadata": {},
   "source": [
    "Each time you run the code cell above, a different caption length is sampled, and a different batch of training data is returned.  Run the code cell multiple times to check this out!\n",
    "\n",
    "You will train your model in the next notebook in this sequence (**2_Training.ipynb**). This code for generating training batches will be provided to you.\n",
    "\n",
    "> Before moving to the next notebook in the sequence (**2_Training.ipynb**), you are strongly encouraged to take the time to become very familiar with the code in  **data_loader.py** and **vocabulary.py**.  **Step 1** and **Step 2** of this notebook are designed to help facilitate a basic introduction and guide your understanding.  However, our description is not exhaustive, and it is up to you (as part of the project) to learn how to best utilize these files to complete the project.  __You should NOT amend any of the code in either *data_loader.py* or *vocabulary.py*.__\n",
    "\n",
    "In the next steps, we focus on learning how to specify a CNN-RNN architecture in PyTorch, towards the goal of image captioning."
   ]
  },
  {
   "cell_type": "markdown",
   "metadata": {},
   "source": [
    "<a id='step3'></a>\n",
    "## Step 3: Experiment with the CNN Encoder\n",
    "\n",
    "Run the code cell below to import `EncoderCNN` and `DecoderRNN` from **model.py**. "
   ]
  },
  {
   "cell_type": "code",
   "execution_count": 19,
   "metadata": {
    "collapsed": true
   },
   "outputs": [],
   "source": [
    "# Watch for any changes in model.py, and re-load it automatically.\n",
    "% load_ext autoreload\n",
    "% autoreload 2\n",
    "\n",
    "# Import EncoderCNN and DecoderRNN. \n",
    "from model import EncoderCNN#, DecoderRNN"
   ]
  },
  {
   "cell_type": "markdown",
   "metadata": {},
   "source": [
    "In the next code cell we define a `device` that you will use move PyTorch tensors to GPU (if CUDA is available).  Run this code cell before continuing."
   ]
  },
  {
   "cell_type": "code",
   "execution_count": 20,
   "metadata": {},
   "outputs": [
    {
     "name": "stdout",
     "output_type": "stream",
     "text": [
      "cuda\n"
     ]
    }
   ],
   "source": [
    "device = torch.device(\"cuda\" if torch.cuda.is_available() else \"cpu\")\n",
    "print(device)"
   ]
  },
  {
   "cell_type": "markdown",
   "metadata": {},
   "source": [
    "Run the code cell below to instantiate the CNN encoder in `encoder`.  \n",
    "\n",
    "The pre-processed images from the batch in **Step 2** of this notebook are then passed through the encoder, and the output is stored in `features`."
   ]
  },
  {
   "cell_type": "code",
   "execution_count": 21,
   "metadata": {},
   "outputs": [
    {
     "name": "stdout",
     "output_type": "stream",
     "text": [
      "type(features): <class 'torch.Tensor'>\n",
      "features.shape: torch.Size([10, 256])\n",
      "tensor([[ 4.0151e-01, -2.3419e-01, -8.7989e-02,  ...,  5.6403e-02,\n",
      "          1.2647e-01,  2.6697e-04],\n",
      "        [ 1.5949e-01, -4.2123e-01,  2.0235e-01,  ..., -4.3162e-01,\n",
      "          1.8994e-01, -2.5663e-01],\n",
      "        [ 3.3518e-01, -2.0815e-01, -8.3512e-02,  ..., -3.3177e-01,\n",
      "         -1.6991e-01,  7.2753e-02],\n",
      "        ...,\n",
      "        [ 7.5937e-01, -6.1005e-01,  3.4004e-01,  ..., -5.1836e-01,\n",
      "          5.5880e-01, -3.4877e-01],\n",
      "        [ 2.9326e-01, -3.1045e-01, -3.3059e-01,  ..., -2.3468e-01,\n",
      "          2.7887e-01, -2.8378e-01],\n",
      "        [ 3.6374e-01, -1.9204e-01,  1.9486e-01,  ..., -3.5468e-01,\n",
      "         -1.4076e-02,  4.4112e-02]], device='cuda:0')\n"
     ]
    }
   ],
   "source": [
    "# Specify the dimensionality of the image embedding.\n",
    "embed_size = 256\n",
    "\n",
    "#-#-#-# Do NOT modify the code below this line. #-#-#-#\n",
    "\n",
    "# Initialize the encoder. (Optional: Add additional arguments if necessary.)\n",
    "encoder = EncoderCNN(embed_size)\n",
    "\n",
    "# Move the encoder to GPU if CUDA is available.\n",
    "encoder.to(device)\n",
    "    \n",
    "# Move last batch of images (from Step 2) to GPU if CUDA is available.   \n",
    "images = images.to(device)\n",
    "\n",
    "# Pass the images through the encoder.\n",
    "features = encoder(images)\n",
    "\n",
    "print('type(features):', type(features))\n",
    "print('features.shape:', features.shape)\n",
    "print(features)\n",
    "\n",
    "# Check that your encoder satisfies some requirements of the project! :D\n",
    "assert type(features)==torch.Tensor, \"Encoder output needs to be a PyTorch Tensor.\" \n",
    "assert (features.shape[0]==batch_size) & (features.shape[1]==embed_size), \"The shape of the encoder output is incorrect.\""
   ]
  },
  {
   "cell_type": "markdown",
   "metadata": {},
   "source": [
    "The encoder that we provide to you uses the pre-trained ResNet-50 architecture (with the final fully-connected layer removed) to extract features from a batch of pre-processed images.  The output is then flattened to a vector, before being passed through a `Linear` layer to transform the feature vector to have the same size as the word embedding.\n",
    "\n",
    "![Encoder](images/encoder.png)\n",
    "\n",
    "You are welcome (and encouraged) to amend the encoder in **model.py**, to experiment with other architectures.  In particular, consider using a [different pre-trained model architecture](http://pytorch.org/docs/master/torchvision/models.html).  You may also like to [add batch normalization](http://pytorch.org/docs/master/nn.html#normalization-layers).  \n",
    "\n",
    "> You are **not** required to change anything about the encoder.\n",
    "\n",
    "For this project, you **must** incorporate a pre-trained CNN into your encoder.  Your `EncoderCNN` class must take `embed_size` as an input argument, which will also correspond to the dimensionality of the input to the RNN decoder that you will implement in Step 4.  When you train your model in the next notebook in this sequence (**2_Training.ipynb**), you are welcome to tweak the value of `embed_size`.\n",
    "\n",
    "If you decide to modify the `EncoderCNN` class, save **model.py** and re-execute the code cell above.  If the code cell returns an assertion error, then please follow the instructions to modify your code before proceeding.  The assert statements ensure that `features` is a PyTorch tensor with shape `[batch_size, embed_size]`."
   ]
  },
  {
   "cell_type": "markdown",
   "metadata": {},
   "source": [
    "<a id='step4'></a>\n",
    "## Step 4: Implement the RNN Decoder\n",
    "\n",
    "Before executing the next code cell, you must write `__init__` and `forward` methods in the `DecoderRNN` class in **model.py**.  (Do **not** write the `sample` method yet - you will work with this method when you reach **3_Inference.ipynb**.)\n",
    "\n",
    "> The `__init__` and `forward` methods in the `DecoderRNN` class are the only things that you **need** to modify as part of this notebook.  You will write more implementations in the notebooks that appear later in the sequence.\n",
    "\n",
    "Your decoder will be an instance of the `DecoderRNN` class and must accept as input:\n",
    "- the PyTorch tensor `features` containing the embedded image features (outputted in Step 3, when the last batch of images from Step 2 was passed through `encoder`), along with\n",
    "- a PyTorch tensor corresponding to the last batch of captions (`captions`) from Step 2.\n",
    "\n",
    "Note that the way we have written the data loader should simplify your code a bit.  In particular, every training batch will contain pre-processed captions where all have the same length (`captions.shape[1]`), so **you do not need to worry about padding**.  \n",
    "> While you are encouraged to implement the decoder described in [this paper](https://arxiv.org/pdf/1411.4555.pdf), you are welcome to implement any architecture of your choosing, as long as it uses at least one RNN layer, with hidden dimension `hidden_size`.  \n",
    "\n",
    "Although you will test the decoder using the last batch that is currently stored in the notebook, your decoder should be written to accept an arbitrary batch (of embedded image features and pre-processed captions [where all captions have the same length]) as input.  \n",
    "\n",
    "![Decoder](images/decoder.png)\n",
    "\n",
    "In the code cell below, `outputs` should be a PyTorch tensor with size `[batch_size, captions.shape[1], vocab_size]`.  Your output should be designed such that `outputs[i,j,k]` contains the model's predicted score, indicating how likely the `j`-th token in the `i`-th caption in the batch is the `k`-th token in the vocabulary.  In the next notebook of the sequence (**2_Training.ipynb**), we provide code to supply these scores to the [`torch.nn.CrossEntropyLoss`](http://pytorch.org/docs/master/nn.html#torch.nn.CrossEntropyLoss) optimizer in PyTorch."
   ]
  },
  {
   "cell_type": "code",
   "execution_count": 22,
   "metadata": {},
   "outputs": [
    {
     "name": "stdout",
     "output_type": "stream",
     "text": [
      "self.embed_size 256\n",
      "self.hidden_size 512\n",
      "self.vocab_size 8855\n",
      "self.num_LSTM_layers 1\n",
      "self.device cuda\n",
      "DecoderRNN(\n",
      "  (word_embeddings): Embedding(8855, 256)\n",
      "  (lstm): LSTM(256, 512, batch_first=True)\n",
      "  (linear): Linear(in_features=512, out_features=8855, bias=True)\n",
      ")\n",
      "captions len 10\n",
      "features.shape[0]. batch_size: 10\n",
      "features.shape[1]. embed_size: 256\n",
      "batch_size  10\n",
      "type(outputs): <class 'torch.Tensor'>\n",
      "outputs.shape: torch.Size([10, 10, 8855])\n"
     ]
    }
   ],
   "source": [
    "# Import EncoderCNN and DecoderRNN. \n",
    "from model import DecoderRNN\n",
    "#import os \n",
    "#os.environ['CUDA_LAUNCH_BLOCKING'] = '1'\n",
    "\n",
    "# Specify the number of features in the hidden state of the RNN decoder.\n",
    "hidden_size = 512\n",
    "\n",
    "#-#-#-# Do NOT modify the code below this line. #-#-#-#\n",
    "\n",
    "# Store the size of the vocabulary.\n",
    "vocab_size = len(data_loader.dataset.vocab)\n",
    "\n",
    "# Initialize the decoder.\n",
    "decoder = DecoderRNN(embed_size, hidden_size, vocab_size)\n",
    "print(decoder)\n",
    "# Move the decoder to GPU if CUDA is available.\n",
    "decoder.to(device)\n",
    "    \n",
    "# Move last batch of captions (from Step 1) to GPU if CUDA is available \n",
    "captions = captions.to(device)\n",
    "\n",
    "# Pass the encoder output and captions through the decoder.\n",
    "outputs = decoder(features, captions)\n",
    "\n",
    "print('type(outputs):', type(outputs))\n",
    "print('outputs.shape:', outputs.shape)\n",
    "# outputs shape : (batch_size, caption length, vocab_size)\n",
    "\n",
    "# Check that your decoder satisfies some requirements of the project! :D\n",
    "assert type(outputs)==torch.Tensor, \"Decoder output needs to be a PyTorch Tensor.\"\n",
    "assert (outputs.shape[0]==batch_size) & (outputs.shape[1]==captions.shape[1]) & (outputs.shape[2]==vocab_size), \"The shape of the decoder output is incorrect.\""
   ]
  },
  {
   "cell_type": "markdown",
   "metadata": {},
   "source": [
    "When you train your model in the next notebook in this sequence (**2_Training.ipynb**), you are welcome to tweak the value of `hidden_size`."
   ]
  }
 ],
 "metadata": {
  "anaconda-cloud": {},
  "kernelspec": {
   "display_name": "Python 3",
   "language": "python",
   "name": "python3"
  },
  "language_info": {
   "codemirror_mode": {
    "name": "ipython",
    "version": 3
   },
   "file_extension": ".py",
   "mimetype": "text/x-python",
   "name": "python",
   "nbconvert_exporter": "python",
   "pygments_lexer": "ipython3",
   "version": "3.6.4"
  }
 },
 "nbformat": 4,
 "nbformat_minor": 2
}
